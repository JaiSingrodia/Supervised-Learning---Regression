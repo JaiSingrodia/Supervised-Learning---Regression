{
  "cells": [
    {
      "cell_type": "code",
      "execution_count": 114,
      "id": "0984c3d8-6760-41aa-be39-9d3ced8d0ce5",
      "metadata": {
        "trusted": true
      },
      "outputs": [],
      "source": [
        "import numpy as np\n",
        "import pandas as pd\n",
        "import matplotlib.pyplot as plt\n",
        "from collections import Counter\n",
        "from sklearn.model_selection import train_test_split"
      ]
    },
    {
      "cell_type": "markdown",
      "id": "fafd70b3",
      "metadata": {},
      "source": [
        "Reading the dataset"
      ]
    },
    {
      "cell_type": "code",
      "execution_count": 115,
      "id": "2cd19cd2-a1e5-4292-a4f6-1ca81972c590",
      "metadata": {},
      "outputs": [],
      "source": [
        "data = pd.read_csv(\"Medical_Price_Dataset.csv\")"
      ]
    },
    {
      "cell_type": "markdown",
      "id": "c34c16a5",
      "metadata": {},
      "source": [
        "Changing the values of sex, smoker, region columns into numbers so that we can use them to train our model."
      ]
    },
    {
      "cell_type": "code",
      "execution_count": 116,
      "id": "83e98b13",
      "metadata": {},
      "outputs": [],
      "source": [
        "data['sex'] = data['sex'].apply({'male':0, 'female':1}.get)\n",
        "data['smoker'] = data['smoker'].apply({'no':0, 'yes':1}.get)\n",
        "data['region'] = data['region'].apply({'southwest':1, 'southeast':2, 'northeast':3, 'northwest':4}.get)"
      ]
    },
    {
      "cell_type": "code",
      "execution_count": 117,
      "id": "6fae0d96",
      "metadata": {},
      "outputs": [
        {
          "data": {
            "text/html": [
              "<div>\n",
              "<style scoped>\n",
              "    .dataframe tbody tr th:only-of-type {\n",
              "        vertical-align: middle;\n",
              "    }\n",
              "\n",
              "    .dataframe tbody tr th {\n",
              "        vertical-align: top;\n",
              "    }\n",
              "\n",
              "    .dataframe thead th {\n",
              "        text-align: right;\n",
              "    }\n",
              "</style>\n",
              "<table border=\"1\" class=\"dataframe\">\n",
              "  <thead>\n",
              "    <tr style=\"text-align: right;\">\n",
              "      <th></th>\n",
              "      <th>age</th>\n",
              "      <th>sex</th>\n",
              "      <th>bmi</th>\n",
              "      <th>children</th>\n",
              "      <th>smoker</th>\n",
              "      <th>region</th>\n",
              "    </tr>\n",
              "  </thead>\n",
              "  <tbody>\n",
              "    <tr>\n",
              "      <th>0</th>\n",
              "      <td>19</td>\n",
              "      <td>1</td>\n",
              "      <td>27.900</td>\n",
              "      <td>0</td>\n",
              "      <td>1</td>\n",
              "      <td>1</td>\n",
              "    </tr>\n",
              "    <tr>\n",
              "      <th>1</th>\n",
              "      <td>18</td>\n",
              "      <td>0</td>\n",
              "      <td>33.770</td>\n",
              "      <td>1</td>\n",
              "      <td>0</td>\n",
              "      <td>2</td>\n",
              "    </tr>\n",
              "    <tr>\n",
              "      <th>2</th>\n",
              "      <td>28</td>\n",
              "      <td>0</td>\n",
              "      <td>33.000</td>\n",
              "      <td>3</td>\n",
              "      <td>0</td>\n",
              "      <td>2</td>\n",
              "    </tr>\n",
              "    <tr>\n",
              "      <th>3</th>\n",
              "      <td>33</td>\n",
              "      <td>0</td>\n",
              "      <td>22.705</td>\n",
              "      <td>0</td>\n",
              "      <td>0</td>\n",
              "      <td>4</td>\n",
              "    </tr>\n",
              "    <tr>\n",
              "      <th>4</th>\n",
              "      <td>32</td>\n",
              "      <td>0</td>\n",
              "      <td>28.880</td>\n",
              "      <td>0</td>\n",
              "      <td>0</td>\n",
              "      <td>4</td>\n",
              "    </tr>\n",
              "  </tbody>\n",
              "</table>\n",
              "</div>"
            ],
            "text/plain": [
              "   age  sex     bmi  children  smoker  region\n",
              "0   19    1  27.900         0       1       1\n",
              "1   18    0  33.770         1       0       2\n",
              "2   28    0  33.000         3       0       2\n",
              "3   33    0  22.705         0       0       4\n",
              "4   32    0  28.880         0       0       4"
            ]
          },
          "execution_count": 117,
          "metadata": {},
          "output_type": "execute_result"
        }
      ],
      "source": [
        "x=data.drop(['charges'],axis=1)\n",
        "y=data.charges\n",
        "x.head(5)\n"
      ]
    },
    {
      "cell_type": "code",
      "execution_count": 118,
      "id": "84613249",
      "metadata": {},
      "outputs": [
        {
          "data": {
            "text/plain": [
              "0    16884.92400\n",
              "1     1725.55230\n",
              "2     4449.46200\n",
              "3    21984.47061\n",
              "4     3866.85520\n",
              "Name: charges, dtype: float64"
            ]
          },
          "execution_count": 118,
          "metadata": {},
          "output_type": "execute_result"
        }
      ],
      "source": [
        "y.head(5)"
      ]
    },
    {
      "cell_type": "markdown",
      "id": "60119cf3",
      "metadata": {},
      "source": [
        "Dividing the dataset into train and test data by 5:1 ratio"
      ]
    },
    {
      "cell_type": "code",
      "execution_count": 119,
      "id": "f85443dc",
      "metadata": {},
      "outputs": [],
      "source": [
        "x_train, x_test, y_train, y_test = train_test_split(x,y,test_size=0.2)\n",
        "y_train = pd.DataFrame({'charges': y_train})\n",
        "y_test = pd.DataFrame({'charges': y_test})"
      ]
    },
    {
      "cell_type": "markdown",
      "id": "5a410a60",
      "metadata": {},
      "source": [
        "Adding additional column with all values as one in input matrix"
      ]
    },
    {
      "cell_type": "code",
      "execution_count": 120,
      "id": "4803b982",
      "metadata": {},
      "outputs": [],
      "source": [
        "dummy = np.ones((1,len(x_train)))\n",
        "x_train = np.vstack((dummy,x_train.T)).T\n",
        "dummy1 = np.ones((1,len(x_test)))\n",
        "x_test = np.vstack((dummy1,x_test.T)).T"
      ]
    },
    {
      "cell_type": "markdown",
      "id": "f185f23e",
      "metadata": {},
      "source": [
        "Plotting age column with charges to see impact of age on medical charges"
      ]
    },
    {
      "cell_type": "code",
      "execution_count": 121,
      "id": "3e04520b",
      "metadata": {},
      "outputs": [
        {
          "data": {
            "image/png": "[encoded data removed]",
            "text/plain": [
              "<Figure size 432x288 with 1 Axes>"
            ]
          },
          "metadata": {
            "needs_background": "light"
          },
          "output_type": "display_data"
        }
      ],
      "source": [
        "plt.scatter(x.age,y)\n",
        "plt.show()"
      ]
    },
    {
      "cell_type": "code",
      "execution_count": 122,
      "id": "cff99cb8",
      "metadata": {},
      "outputs": [],
      "source": [
        "def model1(X, Y, alpha, iter):\n",
        "    m = len(Y)\n",
        "    cost_list = []\n",
        "    col = X.shape[1]\n",
        "    theta = np.zeros((col,1))\n",
        "    print(iter)\n",
        "    print(X.shape)\n",
        "    print(Y.shape)\n",
        "    for ind in range(iter):\n",
        "        y_pred = np.dot(X, theta)\n",
        "        d_theta = (1/m)*np.dot(X.T, y_pred - Y)\n",
        "        cost = (1/(2*m))*np.sum(np.square(y_pred - Y))\n",
        "        cost_list.append(cost)\n",
        "        theta = theta -alpha*d_theta\n",
        "\n",
        "        \n",
        "    return theta, cost_list"
      ]
    },
    {
      "cell_type": "code",
      "execution_count": 123,
      "id": "c368bb3e",
      "metadata": {},
      "outputs": [
        {
          "name": "stdout",
          "output_type": "stream",
          "text": [
            "100\n",
            "(1070, 7)\n",
            "(1070, 1)\n"
          ]
        }
      ],
      "source": [
        "theta_pred, costs = model1(x_train, y_train, 0.00005, 100)"
      ]
    },
    {
      "cell_type": "markdown",
      "id": "49987f3a",
      "metadata": {},
      "source": [
        "Plotting cost function with iteration. We can see that with each iteration cost is coming down"
      ]
    },
    {
      "cell_type": "code",
      "execution_count": 124,
      "id": "b239e7aa",
      "metadata": {},
      "outputs": [
        {
          "data": {
            "image/png": "[encoded data removed]",
            "text/plain": [
              "<Figure size 432x288 with 1 Axes>"
            ]
          },
          "metadata": {
            "needs_background": "light"
          },
          "output_type": "display_data"
        }
      ],
      "source": [
        "iteration = 100 \n",
        "rng = np.arange(0, iteration)\n",
        "plt.plot(costs,rng)\n",
        "plt.show()"
      ]
    },
    {
      "cell_type": "markdown",
      "id": "ccef08d1",
      "metadata": {},
      "source": [
        "Predicted values of y"
      ]
    },
    {
      "cell_type": "code",
      "execution_count": 126,
      "id": "868ba1c9",
      "metadata": {},
      "outputs": [
        {
          "name": "stdout",
          "output_type": "stream",
          "text": [
            "[[15490.06308296]\n",
            " [17077.44396186]\n",
            " [10954.41716036]\n",
            " [11932.83534808]\n",
            " [15825.20072903]]\n"
          ]
        }
      ],
      "source": [
        "Y_pred = np.dot(x_test,theta_pred)\n",
        "print(Y_pred[:5])"
      ]
    }
  ],
  "metadata": {
    "interpreter": {
      "hash": "a28960e65365257941a791ce2683654f258fd3efc08277d53aa5422e77a5c2c7"
    },
    "kernelspec": {
      "display_name": "Python 3.9.7 64-bit",
      "language": "python",
      "name": "python3"
    },
    "language_info": {
      "codemirror_mode": {
        "name": "ipython",
        "version": 3
      },
      "file_extension": ".py",
      "mimetype": "text/x-python",
      "name": "python",
      "nbconvert_exporter": "python",
      "pygments_lexer": "ipython3",
      "version": "3.9.7"
    }
  },
  "nbformat": 4,
  "nbformat_minor": 5
}
